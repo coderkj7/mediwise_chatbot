{
  "nbformat": 4,
  "nbformat_minor": 0,
  "metadata": {
    "colab": {
      "provenance": []
    },
    "kernelspec": {
      "name": "python3",
      "display_name": "Python 3"
    },
    "language_info": {
      "name": "python"
    }
  },
  "cells": [
    {
      "cell_type": "markdown",
      "source": [
        "# MediWise appointment: (HMW5 & Demo for project)\n",
        "\n",
        "By: Nadya Malekpour\n",
        "\n",
        "\n",
        "---\n",
        "\n",
        "\n",
        "\n",
        "---\n",
        "\n"
      ],
      "metadata": {
        "id": "yorQPxiqVcU3"
      }
    },
    {
      "cell_type": "markdown",
      "source": [
        "# 1. Environment Preparation"
      ],
      "metadata": {
        "id": "yImUZqiHVY_f"
      }
    },
    {
      "cell_type": "code",
      "source": [
        "!pip install python-dotenv"
      ],
      "metadata": {
        "colab": {
          "base_uri": "https://localhost:8080/"
        },
        "id": "Ksxxzm_CKj1A",
        "outputId": "0096d712-a247-48ee-ffdc-e58957a41579"
      },
      "execution_count": null,
      "outputs": [
        {
          "output_type": "stream",
          "name": "stdout",
          "text": [
            "Requirement already satisfied: python-dotenv in /usr/local/lib/python3.10/dist-packages (1.0.1)\n"
          ]
        }
      ]
    },
    {
      "cell_type": "code",
      "source": [
        "!pip install openai"
      ],
      "metadata": {
        "colab": {
          "base_uri": "https://localhost:8080/"
        },
        "id": "KZspZrdgKeGh",
        "outputId": "dc6250a1-54dd-4f5d-ee60-c6a4bff20e79"
      },
      "execution_count": null,
      "outputs": [
        {
          "output_type": "stream",
          "name": "stdout",
          "text": [
            "Requirement already satisfied: openai in /usr/local/lib/python3.10/dist-packages (1.52.0)\n",
            "Requirement already satisfied: anyio<5,>=3.5.0 in /usr/local/lib/python3.10/dist-packages (from openai) (3.7.1)\n",
            "Requirement already satisfied: distro<2,>=1.7.0 in /usr/lib/python3/dist-packages (from openai) (1.7.0)\n",
            "Requirement already satisfied: httpx<1,>=0.23.0 in /usr/local/lib/python3.10/dist-packages (from openai) (0.27.2)\n",
            "Requirement already satisfied: jiter<1,>=0.4.0 in /usr/local/lib/python3.10/dist-packages (from openai) (0.6.1)\n",
            "Requirement already satisfied: pydantic<3,>=1.9.0 in /usr/local/lib/python3.10/dist-packages (from openai) (2.9.2)\n",
            "Requirement already satisfied: sniffio in /usr/local/lib/python3.10/dist-packages (from openai) (1.3.1)\n",
            "Requirement already satisfied: tqdm>4 in /usr/local/lib/python3.10/dist-packages (from openai) (4.66.5)\n",
            "Requirement already satisfied: typing-extensions<5,>=4.11 in /usr/local/lib/python3.10/dist-packages (from openai) (4.12.2)\n",
            "Requirement already satisfied: idna>=2.8 in /usr/local/lib/python3.10/dist-packages (from anyio<5,>=3.5.0->openai) (3.10)\n",
            "Requirement already satisfied: exceptiongroup in /usr/local/lib/python3.10/dist-packages (from anyio<5,>=3.5.0->openai) (1.2.2)\n",
            "Requirement already satisfied: certifi in /usr/local/lib/python3.10/dist-packages (from httpx<1,>=0.23.0->openai) (2024.8.30)\n",
            "Requirement already satisfied: httpcore==1.* in /usr/local/lib/python3.10/dist-packages (from httpx<1,>=0.23.0->openai) (1.0.6)\n",
            "Requirement already satisfied: h11<0.15,>=0.13 in /usr/local/lib/python3.10/dist-packages (from httpcore==1.*->httpx<1,>=0.23.0->openai) (0.14.0)\n",
            "Requirement already satisfied: annotated-types>=0.6.0 in /usr/local/lib/python3.10/dist-packages (from pydantic<3,>=1.9.0->openai) (0.7.0)\n",
            "Requirement already satisfied: pydantic-core==2.23.4 in /usr/local/lib/python3.10/dist-packages (from pydantic<3,>=1.9.0->openai) (2.23.4)\n"
          ]
        }
      ]
    },
    {
      "cell_type": "code",
      "source": [
        "!pip install tenacity\n",
        "#To use the @retry decorator with wait_random_exponential and stop_after_attempt functionalities,\n",
        "#you need to install the tenacity module. Tenacity is a Python library for retrying failed\n",
        "#operations with a flexible set of retry strategies."
      ],
      "metadata": {
        "colab": {
          "base_uri": "https://localhost:8080/"
        },
        "id": "HqoMZVuYVPCt",
        "outputId": "b2b7cc2b-2ca0-41cf-a9db-c1b313b7febf"
      },
      "execution_count": null,
      "outputs": [
        {
          "output_type": "stream",
          "name": "stdout",
          "text": [
            "Requirement already satisfied: tenacity in /usr/local/lib/python3.10/dist-packages (9.0.0)\n"
          ]
        }
      ]
    },
    {
      "cell_type": "code",
      "source": [
        "import os\n",
        "from dotenv import load_dotenv\n",
        "import openai\n",
        "from openai import OpenAI\n",
        "import json\n",
        "from tenacity import retry, wait_random_exponential, stop_after_attempt\n",
        "\n",
        "# Load environment variables\n",
        "load_dotenv()\n",
        "\n",
        "# Initialize OpenAI client\n",
        "client = OpenAI()"
      ],
      "metadata": {
        "id": "YsUb6XT6Kch-"
      },
      "execution_count": null,
      "outputs": []
    },
    {
      "cell_type": "markdown",
      "source": [
        "# Function calling:\n",
        "Function calling allows you to connect models like gpt-4o to external tools and systems. This is useful for many things such as empowering AI assistants with capabilities, or building deep integrations between your applications and the models.."
      ],
      "metadata": {
        "id": "8lIpHljEV3j8"
      }
    },
    {
      "cell_type": "code",
      "source": [
        "# Dummy functions to simulate appointment system (see availability and make appointments)\n",
        "# In production, this could be your backend API or an external API\n",
        "def get_available_appointments(date):\n",
        "    \"\"\"Get available appointments for a given date\"\"\"\n",
        "    appointments = {\n",
        "        \"2024-10-22\": [\"09:00 AM\", \"11:00 AM\", \"2:00 PM\"],\n",
        "        \"2024-10-23\": [\"10:00 AM\", \"1:00 PM\", \"3:00 PM\"],\n",
        "        \"2024-10-24\": [\"09:30 AM\", \"11:30 AM\", \"4:00 PM\"]\n",
        "    }\n",
        "    return json.dumps(appointments.get(date, []))\n",
        "\n",
        "def make_appointment(date, time, patient_name):\n",
        "    \"\"\"Make an appointment for a given date and time\"\"\"\n",
        "    appointment_info = {\n",
        "        \"status\": \"confirmed\",\n",
        "        \"date\": date,\n",
        "        \"time\": time,\n",
        "        \"patient_name\": patient_name\n",
        "    }\n",
        "    return json.dumps(appointment_info)"
      ],
      "metadata": {
        "id": "rNfsG-8xTtJK"
      },
      "execution_count": null,
      "outputs": []
    },
    {
      "cell_type": "code",
      "source": [
        "# Define the model and retry decorator\n",
        "GPT_MODEL = \"gpt-4o\"\n",
        "@retry(wait=wait_random_exponential(multiplier=1, max=40), stop=stop_after_attempt(3))\n",
        "def chat_completion_request(messages, temperature=0, tools=None, tool_choice=None, model=GPT_MODEL):\n",
        "    try:\n",
        "        response = client.chat.completions.create(\n",
        "            model=model,\n",
        "            messages=messages,\n",
        "            temperature=temperature,\n",
        "            tools=tools,\n",
        "            tool_choice=tool_choice,\n",
        "        )\n",
        "        return response\n",
        "    except Exception as e:\n",
        "        print(\"Unable to generate ChatCompletion response\")\n",
        "        print(f\"Exception: {e}\")\n",
        "        return e"
      ],
      "metadata": {
        "id": "8oo7km1GTzjm"
      },
      "execution_count": null,
      "outputs": []
    },
    {
      "cell_type": "markdown",
      "source": [
        "# Define UDFs (user defined “functions):"
      ],
      "metadata": {
        "id": "gnsKF47kW4Le"
      }
    },
    {
      "cell_type": "code",
      "source": [
        "# Define the tools (functions) that the model can use\n",
        "tools = [\n",
        "    {\n",
        "        \"type\": \"function\",\n",
        "        \"function\": {\n",
        "            \"name\": \"get_available_appointments\",\n",
        "            \"description\": \"Get available appointments for a given date\",\n",
        "            \"parameters\": {\n",
        "                \"type\": \"object\",\n",
        "                \"properties\": {\n",
        "                    \"date\": {\n",
        "                        \"type\": \"string\",\n",
        "                        \"description\": \"The date for which to check appointments (YYYY-MM-DD)\",\n",
        "                    },\n",
        "                },\n",
        "                \"required\": [\"date\"],\n",
        "            },\n",
        "        }\n",
        "    },\n",
        "    {\n",
        "        \"type\": \"function\",\n",
        "        \"function\": {\n",
        "            \"name\": \"make_appointment\",\n",
        "            \"description\": \"Make an appointment for a given date and time\",\n",
        "            \"parameters\": {\n",
        "                \"type\": \"object\",\n",
        "                \"properties\": {\n",
        "                    \"date\": {\n",
        "                        \"type\": \"string\",\n",
        "                        \"description\": \"The date for the appointment (YYYY-MM-DD)\",\n",
        "                    },\n",
        "                    \"time\": {\n",
        "                        \"type\": \"string\",\n",
        "                        \"description\": \"The time for the appointment (HH:MM AM/PM)\",\n",
        "                    },\n",
        "                    \"patient_name\": {\n",
        "                        \"type\": \"string\",\n",
        "                        \"description\": \"The name of the patient\",\n",
        "                    },\n",
        "                },\n",
        "                \"required\": [\"date\", \"time\", \"patient_name\"],\n",
        "            },\n",
        "        }\n",
        "    }\n",
        "]\n",
        "\n",
        "available_functions = {\n",
        "    \"get_available_appointments\": get_available_appointments,\n",
        "    \"make_appointment\": make_appointment,\n",
        "}"
      ],
      "metadata": {
        "id": "EQOoUWaCT-R7"
      },
      "execution_count": null,
      "outputs": []
    },
    {
      "cell_type": "code",
      "execution_count": null,
      "metadata": {
        "colab": {
          "base_uri": "https://localhost:8080/"
        },
        "id": "Mj8LjmpcKZCa",
        "outputId": "6b9b0f75-51c8-4cb5-cb48-c948bd512c24"
      },
      "outputs": [
        {
          "output_type": "stream",
          "name": "stdout",
          "text": [
            "Patient: hi\n",
            "MediWise: Hello! How can I assist you today?\n",
            "Patient: i need to see if there is availability for appointment \n",
            "MediWise: Sure, I can help with that. Could you please provide the date for which you want to check the available appointments?\n",
            "Patient: 10-23\n",
            "MediWise: Could you please provide the full date in the format YYYY-MM-DD so I can check the availability for you?\n",
            "Patient: 2024-10-23\n",
            "MediWise: Here are the available appointment times for October 23, 2024:\n",
            "\n",
            "- 10:00 AM\n",
            "- 1:00 PM\n",
            "- 3:00 PM\n",
            "\n",
            "If you'd like to book an appointment, please let me know your preferred time and your name!\n",
            "Patient: 1 pm works for me\n",
            "MediWise: Great! I can schedule an appointment for you at 1:00 PM on October 23, 2024. Could you please provide your name for the appointment?\n",
            "Patient: my name is NAdya MX but I changed my mind. make an appointment for 3pm please\n",
            "MediWise: Your appointment has been successfully scheduled for October 23, 2024, at 3:00 PM under the name Nadya MX. If you need any further assistance, feel free to ask!\n",
            "Patient: perfect! thanks and bye\n",
            "MediWise: You're welcome! Your appointment for October 23, 2024, at 3:00 PM is confirmed. If you need anything else, feel free to reach out. Goodbye!\n",
            "Patient: exit\n",
            "MediWise: Thank you for using our service. Take care!\n"
          ]
        }
      ],
      "source": [
        "def process_conversation(user_input, conversation_history):\n",
        "    messages = conversation_history + [{\"role\": \"user\", \"content\": user_input}]\n",
        "    response = chat_completion_request(messages, temperature=0, tools=tools, tool_choice=\"auto\")\n",
        "    response_message = response.choices[0].message\n",
        "    tool_calls = response_message.tool_calls\n",
        "\n",
        "    #check if the model wanted to call a function\n",
        "    if tool_calls:\n",
        "        #call the function\n",
        "        messages.append(response_message)\n",
        "        #send the info for each function call and function response to the model\n",
        "        for tool_call in tool_calls:\n",
        "            function_name = tool_call.function.name\n",
        "            function_to_call = available_functions[function_name]\n",
        "            function_args = json.loads(tool_call.function.arguments)\n",
        "\n",
        "            if function_name == \"get_available_appointments\":\n",
        "                function_response = function_to_call(date=function_args.get(\"date\"))\n",
        "            elif function_name == \"make_appointment\":\n",
        "                function_response = function_to_call(\n",
        "                    date=function_args.get(\"date\"),\n",
        "                    time=function_args.get(\"time\"),\n",
        "                    patient_name=function_args.get(\"patient_name\")\n",
        "                )\n",
        "\n",
        "            messages.append(\n",
        "                {\n",
        "                    \"tool_call_id\": tool_call.id,\n",
        "                    \"role\": \"tool\",\n",
        "                    \"name\": function_name,\n",
        "                    \"content\": function_response,\n",
        "                }\n",
        "            )\n",
        "        second_response = chat_completion_request(messages, temperature=0, tools=tools, tool_choice=\"auto\")\n",
        "        return second_response.choices[0].message.content, messages\n",
        "    else:\n",
        "        return response_message.content, messages\n",
        "\n",
        "# Example usage\n",
        "conversation_history = [\n",
        "    {\"role\": \"system\", \"content\": \"You are MediWise, a helpful healthcare assistant. You can help patients view available appointments and schedule appointments.\"}\n",
        "]\n",
        "\n",
        "while True:\n",
        "    user_input = input(\"Patient: \")\n",
        "    if user_input.lower() == 'exit':\n",
        "        print(\"MediWise: Thank you for using our service. Take care!\")\n",
        "        break\n",
        "\n",
        "    response, conversation_history = process_conversation(user_input, conversation_history)\n",
        "    print(\"MediWise:\", response)"
      ]
    }
  ]
}