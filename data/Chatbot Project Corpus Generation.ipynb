{
 "cells": [
  {
   "cell_type": "markdown",
   "id": "55e6217c",
   "metadata": {},
   "source": [
    "# <span style=\"color: blue\"> Chatbot Project - Doctor and Patient Corpus</span>"
   ]
  },
  {
   "cell_type": "markdown",
   "id": "767ae8fe",
   "metadata": {},
   "source": [
    "### Imports"
   ]
  },
  {
   "cell_type": "code",
   "execution_count": 1,
   "id": "44cc3b5a",
   "metadata": {},
   "outputs": [
    {
     "name": "stderr",
     "output_type": "stream",
     "text": [
      "C:\\Users\\Jess\\anaconda3\\lib\\site-packages\\scipy\\__init__.py:146: UserWarning: A NumPy version >=1.16.5 and <1.23.0 is required for this version of SciPy (detected version 1.26.4\n",
      "  warnings.warn(f\"A NumPy version >={np_minversion} and <{np_maxversion}\"\n"
     ]
    },
    {
     "name": "stdout",
     "output_type": "stream",
     "text": [
      "WARNING:tensorflow:From C:\\Users\\Jess\\anaconda3\\lib\\site-packages\\keras\\src\\losses.py:2976: The name tf.losses.sparse_softmax_cross_entropy is deprecated. Please use tf.compat.v1.losses.sparse_softmax_cross_entropy instead.\n",
      "\n"
     ]
    }
   ],
   "source": [
    "import sys\n",
    "import tensorflow as tf\n",
    "import numpy as np"
   ]
  },
  {
   "cell_type": "code",
   "execution_count": 2,
   "id": "195b6f84",
   "metadata": {},
   "outputs": [],
   "source": [
    "import json\n",
    "\n",
    "import os\n",
    "from dotenv import load_dotenv\n",
    "\n",
    "import openai\n",
    "from openai import OpenAI"
   ]
  },
  {
   "cell_type": "markdown",
   "id": "41542a3c",
   "metadata": {},
   "source": [
    "Note: to run this you need to connect to your env and OpenAI API key."
   ]
  },
  {
   "cell_type": "code",
   "execution_count": 3,
   "id": "3ff1f8eb",
   "metadata": {},
   "outputs": [
    {
     "data": {
      "text/plain": [
       "True"
      ]
     },
     "execution_count": 3,
     "metadata": {},
     "output_type": "execute_result"
    }
   ],
   "source": [
    "load_dotenv()"
   ]
  },
  {
   "cell_type": "code",
   "execution_count": 4,
   "id": "f356c3f1",
   "metadata": {},
   "outputs": [],
   "source": [
    "client = OpenAI()"
   ]
  },
  {
   "cell_type": "markdown",
   "id": "5d0252e5",
   "metadata": {},
   "source": [
    "### Call to OpenAI's Models"
   ]
  },
  {
   "cell_type": "code",
   "execution_count": 5,
   "id": "7b4ebacb",
   "metadata": {},
   "outputs": [],
   "source": [
    "#this function completes the roles and users with content as the generated medical network\n",
    "#information as the prompt\n",
    "\n",
    "def chat_complete_prompt(prompt):\n",
    "    # query against the model \"gpt-4o\"\n",
    "    messages = [{\"role\": \"user\", \"content\": prompt}]\n",
    "    response = client.chat.completions.create(\n",
    "        model=\"gpt-4o\",\n",
    "        messages=messages,\n",
    "        temperature=0.3, # this is the degree of randomness of the model's output\n",
    "    )\n",
    "    return response.choices[0].message.content"
   ]
  },
  {
   "cell_type": "code",
   "execution_count": 6,
   "id": "8befa9bb",
   "metadata": {},
   "outputs": [],
   "source": [
    "#this function will complete the message response\n",
    "\n",
    "def chat_complete_messages(messages, temperature=0.2):\n",
    "    # query against the model \"gpt-4o\"\n",
    "    response = client.chat.completions.create(\n",
    "        model=\"gpt-4o\",\n",
    "        response_format={ \"type\": \"json_object\" },\n",
    "        messages= messages,\n",
    "        temperature=temperature, # this is the degree of randomness of the model's output\n",
    "    )\n",
    "    return response.choices[0].message.content"
   ]
  },
  {
   "cell_type": "markdown",
   "id": "6244a9bf",
   "metadata": {},
   "source": [
    "### Doctor Data Generation (Example)"
   ]
  },
  {
   "cell_type": "code",
   "execution_count": 18,
   "id": "83076bc9",
   "metadata": {},
   "outputs": [],
   "source": [
    "prompt = f\"\"\"\n",
    "Please generate 20 random doctor names, along with a specialty, availability, their location at the \n",
    "Family Medicine Building or Main Hospital and if they are accepting new patients. \n",
    "Please include at least 5 general practioners.\n",
    "The response must be in json format without any markdown formatting or extra text, \n",
    "and it should contain the following keys: doctor_name, doctor_specialty, availability, location, and accepting_new_patients.\n",
    "\"\"\"\n",
    "\n",
    "\n",
    "response = chat_complete_prompt(prompt)"
   ]
  },
  {
   "cell_type": "code",
   "execution_count": 19,
   "id": "037e275e",
   "metadata": {},
   "outputs": [
    {
     "data": {
      "text/plain": [
       "'[\\n    {\\n        \"doctor_name\": \"Dr. Emily Carter\",\\n        \"doctor_specialty\": \"General Practitioner\",\\n        \"availability\": \"Mon-Fri 9am-5pm\",\\n        \"location\": \"Family Medicine Building\",\\n        \"accepting_new_patients\": true\\n    },\\n    {\\n        \"doctor_name\": \"Dr. Michael Thompson\",\\n        \"doctor_specialty\": \"Pediatrician\",\\n        \"availability\": \"Mon-Fri 8am-4pm\",\\n        \"location\": \"Main Hospital\",\\n        \"accepting_new_patients\": true\\n    },\\n    {\\n        \"doctor_name\": \"Dr. Sarah Johnson\",\\n        \"doctor_specialty\": \"General Practitioner\",\\n        \"availability\": \"Tue-Thu 10am-6pm\",\\n        \"location\": \"Family Medicine Building\",\\n        \"accepting_new_patients\": false\\n    },\\n    {\\n        \"doctor_name\": \"Dr. David Lee\",\\n        \"doctor_specialty\": \"Cardiologist\",\\n        \"availability\": \"Mon-Wed 9am-3pm\",\\n        \"location\": \"Main Hospital\",\\n        \"accepting_new_patients\": true\\n    },\\n    {\\n        \"doctor_name\": \"Dr. Lisa Brown\",\\n        \"doctor_specialty\": \"General Practitioner\",\\n        \"availability\": \"Mon-Fri 8am-5pm\",\\n        \"location\": \"Family Medicine Building\",\\n        \"accepting_new_patients\": true\\n    },\\n    {\\n        \"doctor_name\": \"Dr. James Wilson\",\\n        \"doctor_specialty\": \"Dermatologist\",\\n        \"availability\": \"Wed-Fri 9am-4pm\",\\n        \"location\": \"Main Hospital\",\\n        \"accepting_new_patients\": false\\n    },\\n    {\\n        \"doctor_name\": \"Dr. Karen Smith\",\\n        \"doctor_specialty\": \"General Practitioner\",\\n        \"availability\": \"Mon-Thu 9am-5pm\",\\n        \"location\": \"Family Medicine Building\",\\n        \"accepting_new_patients\": true\\n    },\\n    {\\n        \"doctor_name\": \"Dr. Robert Garcia\",\\n        \"doctor_specialty\": \"Orthopedic Surgeon\",\\n        \"availability\": \"Tue-Fri 8am-4pm\",\\n        \"location\": \"Main Hospital\",\\n        \"accepting_new_patients\": true\\n    },\\n    {\\n        \"doctor_name\": \"Dr. Patricia Martinez\",\\n        \"doctor_specialty\": \"Endocrinologist\",\\n        \"availability\": \"Mon-Thu 10am-5pm\",\\n        \"location\": \"Main Hospital\",\\n        \"accepting_new_patients\": false\\n    },\\n    {\\n        \"doctor_name\": \"Dr. John Anderson\",\\n        \"doctor_specialty\": \"General Practitioner\",\\n        \"availability\": \"Mon-Fri 8am-6pm\",\\n        \"location\": \"Family Medicine Building\",\\n        \"accepting_new_patients\": true\\n    },\\n    {\\n        \"doctor_name\": \"Dr. Angela White\",\\n        \"doctor_specialty\": \"Neurologist\",\\n        \"availability\": \"Tue-Thu 9am-3pm\",\\n        \"location\": \"Main Hospital\",\\n        \"accepting_new_patients\": true\\n    },\\n    {\\n        \"doctor_name\": \"Dr. Charles Harris\",\\n        \"doctor_specialty\": \"Gastroenterologist\",\\n        \"availability\": \"Mon-Wed 9am-5pm\",\\n        \"location\": \"Main Hospital\",\\n        \"accepting_new_patients\": false\\n    },\\n    {\\n        \"doctor_name\": \"Dr. Jennifer Clark\",\\n        \"doctor_specialty\": \"Psychiatrist\",\\n        \"availability\": \"Mon-Fri 10am-4pm\",\\n        \"location\": \"Main Hospital\",\\n        \"accepting_new_patients\": true\\n    },\\n    {\\n        \"doctor_name\": \"Dr. Daniel Lewis\",\\n        \"doctor_specialty\": \"Urologist\",\\n        \"availability\": \"Tue-Thu 8am-5pm\",\\n        \"location\": \"Main Hospital\",\\n        \"accepting_new_patients\": true\\n    },\\n    {\\n        \"doctor_name\": \"Dr. Michelle Robinson\",\\n        \"doctor_specialty\": \"Pulmonologist\",\\n        \"availability\": \"Mon-Wed 9am-4pm\",\\n        \"location\": \"Main Hospital\",\\n        \"accepting_new_patients\": false\\n    },\\n    {\\n        \"doctor_name\": \"Dr. Steven Young\",\\n        \"doctor_specialty\": \"Rheumatologist\",\\n        \"availability\": \"Mon-Fri 8am-5pm\",\\n        \"location\": \"Main Hospital\",\\n        \"accepting_new_patients\": true\\n    },\\n    {\\n        \"doctor_name\": \"Dr. Laura King\",\\n        \"doctor_specialty\": \"Ophthalmologist\",\\n        \"availability\": \"Tue-Fri 9am-4pm\",\\n        \"location\": \"Main Hospital\",\\n        \"accepting_new_patients\": true\\n    },\\n    {\\n        \"doctor_name\": \"Dr. Brian Wright\",\\n        \"doctor_specialty\": \"Oncologist\",\\n        \"availability\": \"Mon-Thu 10am-5pm\",\\n        \"location\": \"Main Hospital\",\\n        \"accepting_new_patients\": false\\n    },\\n    {\\n        \"doctor_name\": \"Dr. Nancy Hill\",\\n        \"doctor_specialty\": \"Family Medicine\",\\n        \"availability\": \"Mon-Fri 9am-5pm\",\\n        \"location\": \"Family Medicine Building\",\\n        \"accepting_new_patients\": true\\n    }\\n]'"
      ]
     },
     "execution_count": 19,
     "metadata": {},
     "output_type": "execute_result"
    }
   ],
   "source": [
    "response"
   ]
  },
  {
   "cell_type": "code",
   "execution_count": 20,
   "id": "c59c7b16",
   "metadata": {},
   "outputs": [
    {
     "name": "stdout",
     "output_type": "stream",
     "text": [
      "[\n",
      "    {\n",
      "        \"doctor_name\": \"Dr. Emily Carter\",\n",
      "        \"doctor_specialty\": \"General Practitioner\",\n",
      "        \"availability\": \"Mon-Fri 9am-5pm\",\n",
      "        \"location\": \"Family Medicine Building\",\n",
      "        \"accepting_new_patients\": true\n",
      "    },\n",
      "    {\n",
      "        \"doctor_name\": \"Dr. Michael Thompson\",\n",
      "        \"doctor_specialty\": \"Pediatrician\",\n",
      "        \"availability\": \"Mon-Fri 8am-4pm\",\n",
      "        \"location\": \"Main Hospital\",\n",
      "        \"accepting_new_patients\": true\n",
      "    },\n",
      "    {\n",
      "        \"doctor_name\": \"Dr. Sarah Johnson\",\n",
      "        \"doctor_specialty\": \"General Practitioner\",\n",
      "        \"availability\": \"Tue-Thu 10am-6pm\",\n",
      "        \"location\": \"Family Medicine Building\",\n",
      "        \"accepting_new_patients\": false\n",
      "    },\n",
      "    {\n",
      "        \"doctor_name\": \"Dr. David Lee\",\n",
      "        \"doctor_specialty\": \"Cardiologist\",\n",
      "        \"availability\": \"Mon-Wed 9am-3pm\",\n",
      "        \"location\": \"Main Hospital\",\n",
      "        \"accepting_new_patients\": true\n",
      "    },\n",
      "    {\n",
      "        \"doctor_name\": \"Dr. Lisa Brown\",\n",
      "        \"doctor_specialty\": \"General Practitioner\",\n",
      "        \"availability\": \"Mon-Fri 8am-5pm\",\n",
      "        \"location\": \"Family Medicine Building\",\n",
      "        \"accepting_new_patients\": true\n",
      "    },\n",
      "    {\n",
      "        \"doctor_name\": \"Dr. James Wilson\",\n",
      "        \"doctor_specialty\": \"Dermatologist\",\n",
      "        \"availability\": \"Wed-Fri 9am-4pm\",\n",
      "        \"location\": \"Main Hospital\",\n",
      "        \"accepting_new_patients\": false\n",
      "    },\n",
      "    {\n",
      "        \"doctor_name\": \"Dr. Karen Smith\",\n",
      "        \"doctor_specialty\": \"General Practitioner\",\n",
      "        \"availability\": \"Mon-Thu 9am-5pm\",\n",
      "        \"location\": \"Family Medicine Building\",\n",
      "        \"accepting_new_patients\": true\n",
      "    },\n",
      "    {\n",
      "        \"doctor_name\": \"Dr. Robert Garcia\",\n",
      "        \"doctor_specialty\": \"Orthopedic Surgeon\",\n",
      "        \"availability\": \"Tue-Fri 8am-4pm\",\n",
      "        \"location\": \"Main Hospital\",\n",
      "        \"accepting_new_patients\": true\n",
      "    },\n",
      "    {\n",
      "        \"doctor_name\": \"Dr. Patricia Martinez\",\n",
      "        \"doctor_specialty\": \"Endocrinologist\",\n",
      "        \"availability\": \"Mon-Thu 10am-5pm\",\n",
      "        \"location\": \"Main Hospital\",\n",
      "        \"accepting_new_patients\": false\n",
      "    },\n",
      "    {\n",
      "        \"doctor_name\": \"Dr. John Anderson\",\n",
      "        \"doctor_specialty\": \"General Practitioner\",\n",
      "        \"availability\": \"Mon-Fri 8am-6pm\",\n",
      "        \"location\": \"Family Medicine Building\",\n",
      "        \"accepting_new_patients\": true\n",
      "    },\n",
      "    {\n",
      "        \"doctor_name\": \"Dr. Angela White\",\n",
      "        \"doctor_specialty\": \"Neurologist\",\n",
      "        \"availability\": \"Tue-Thu 9am-3pm\",\n",
      "        \"location\": \"Main Hospital\",\n",
      "        \"accepting_new_patients\": true\n",
      "    },\n",
      "    {\n",
      "        \"doctor_name\": \"Dr. Charles Harris\",\n",
      "        \"doctor_specialty\": \"Gastroenterologist\",\n",
      "        \"availability\": \"Mon-Wed 9am-5pm\",\n",
      "        \"location\": \"Main Hospital\",\n",
      "        \"accepting_new_patients\": false\n",
      "    },\n",
      "    {\n",
      "        \"doctor_name\": \"Dr. Jennifer Clark\",\n",
      "        \"doctor_specialty\": \"Psychiatrist\",\n",
      "        \"availability\": \"Mon-Fri 10am-4pm\",\n",
      "        \"location\": \"Main Hospital\",\n",
      "        \"accepting_new_patients\": true\n",
      "    },\n",
      "    {\n",
      "        \"doctor_name\": \"Dr. Daniel Lewis\",\n",
      "        \"doctor_specialty\": \"Urologist\",\n",
      "        \"availability\": \"Tue-Thu 8am-5pm\",\n",
      "        \"location\": \"Main Hospital\",\n",
      "        \"accepting_new_patients\": true\n",
      "    },\n",
      "    {\n",
      "        \"doctor_name\": \"Dr. Michelle Robinson\",\n",
      "        \"doctor_specialty\": \"Pulmonologist\",\n",
      "        \"availability\": \"Mon-Wed 9am-4pm\",\n",
      "        \"location\": \"Main Hospital\",\n",
      "        \"accepting_new_patients\": false\n",
      "    },\n",
      "    {\n",
      "        \"doctor_name\": \"Dr. Steven Young\",\n",
      "        \"doctor_specialty\": \"Rheumatologist\",\n",
      "        \"availability\": \"Mon-Fri 8am-5pm\",\n",
      "        \"location\": \"Main Hospital\",\n",
      "        \"accepting_new_patients\": true\n",
      "    },\n",
      "    {\n",
      "        \"doctor_name\": \"Dr. Laura King\",\n",
      "        \"doctor_specialty\": \"Ophthalmologist\",\n",
      "        \"availability\": \"Tue-Fri 9am-4pm\",\n",
      "        \"location\": \"Main Hospital\",\n",
      "        \"accepting_new_patients\": true\n",
      "    },\n",
      "    {\n",
      "        \"doctor_name\": \"Dr. Brian Wright\",\n",
      "        \"doctor_specialty\": \"Oncologist\",\n",
      "        \"availability\": \"Mon-Thu 10am-5pm\",\n",
      "        \"location\": \"Main Hospital\",\n",
      "        \"accepting_new_patients\": false\n",
      "    },\n",
      "    {\n",
      "        \"doctor_name\": \"Dr. Nancy Hill\",\n",
      "        \"doctor_specialty\": \"Family Medicine\",\n",
      "        \"availability\": \"Mon-Fri 9am-5pm\",\n",
      "        \"location\": \"Family Medicine Building\",\n",
      "        \"accepting_new_patients\": true\n",
      "    }\n",
      "]\n"
     ]
    }
   ],
   "source": [
    "print(response)"
   ]
  },
  {
   "cell_type": "code",
   "execution_count": 21,
   "id": "474dd8f3",
   "metadata": {},
   "outputs": [],
   "source": [
    "doctor_data = response"
   ]
  },
  {
   "cell_type": "markdown",
   "id": "2e6f224f",
   "metadata": {},
   "source": [
    "### Patient Data Generation"
   ]
  },
  {
   "cell_type": "code",
   "execution_count": 11,
   "id": "d91984e9",
   "metadata": {},
   "outputs": [],
   "source": [
    "prompt_patient = f\"\"\"\n",
    "Please generate 40 random patient names, along with a date of birth, randomized medical record number, and what symptoms they are experiecing and what type of doctor they would like to see.\n",
    "The response must be in json format without any markdown formatting or extra text, and it should contain the following keys: patient_name, date_of_birth, medical_record_number, symptoms, doctor_type_requested.\n",
    "\"\"\"\n",
    "\n",
    "response_patient = chat_complete_prompt(prompt_patient)"
   ]
  },
  {
   "cell_type": "code",
   "execution_count": 12,
   "id": "6462a45b",
   "metadata": {},
   "outputs": [
    {
     "name": "stdout",
     "output_type": "stream",
     "text": [
      "[\n",
      "    {\n",
      "        \"patient_name\": \"John Smith\",\n",
      "        \"date_of_birth\": \"1985-06-15\",\n",
      "        \"medical_record_number\": \"MRN123456\",\n",
      "        \"symptoms\": \"Headache, nausea\",\n",
      "        \"doctor_type_requested\": \"Neurologist\"\n",
      "    },\n",
      "    {\n",
      "        \"patient_name\": \"Emily Johnson\",\n",
      "        \"date_of_birth\": \"1990-03-22\",\n",
      "        \"medical_record_number\": \"MRN123457\",\n",
      "        \"symptoms\": \"Cough, fever\",\n",
      "        \"doctor_type_requested\": \"Pulmonologist\"\n",
      "    },\n",
      "    {\n",
      "        \"patient_name\": \"Michael Brown\",\n",
      "        \"date_of_birth\": \"1978-12-30\",\n",
      "        \"medical_record_number\": \"MRN123458\",\n",
      "        \"symptoms\": \"Chest pain\",\n",
      "        \"doctor_type_requested\": \"Cardiologist\"\n",
      "    },\n",
      "    {\n",
      "        \"patient_name\": \"Jessica Davis\",\n",
      "        \"date_of_birth\": \"1982-01-05\",\n",
      "        \"medical_record_number\": \"MRN123459\",\n",
      "        \"symptoms\": \"Joint pain, swelling\",\n",
      "        \"doctor_type_requested\": \"Rheumatologist\"\n",
      "    },\n",
      "    {\n",
      "        \"patient_name\": \"David Wilson\",\n",
      "        \"date_of_birth\": \"1995-07-19\",\n",
      "        \"medical_record_number\": \"MRN123460\",\n",
      "        \"symptoms\": \"Abdominal pain\",\n",
      "        \"doctor_type_requested\": \"Gastroenterologist\"\n",
      "    },\n",
      "    {\n",
      "        \"patient_name\": \"Sarah Miller\",\n",
      "        \"date_of_birth\": \"1988-09-25\",\n",
      "        \"medical_record_number\": \"MRN123461\",\n",
      "        \"symptoms\": \"Fatigue, weight loss\",\n",
      "        \"doctor_type_requested\": \"Endocrinologist\"\n",
      "    },\n",
      "    {\n",
      "        \"patient_name\": \"Daniel Garcia\",\n",
      "        \"date_of_birth\": \"1975-11-11\",\n",
      "        \"medical_record_number\": \"MRN123462\",\n",
      "        \"symptoms\": \"Skin rash, itching\",\n",
      "        \"doctor_type_requested\": \"Dermatologist\"\n",
      "    },\n",
      "    {\n",
      "        \"patient_name\": \"Laura Martinez\",\n",
      "        \"date_of_birth\": \"1992-05-16\",\n",
      "        \"medical_record_number\": \"MRN123463\",\n",
      "        \"symptoms\": \"Shortness of breath\",\n",
      "        \"doctor_type_requested\": \"Pulmonologist\"\n",
      "    },\n",
      "    {\n",
      "        \"patient_name\": \"James Rodriguez\",\n",
      "        \"date_of_birth\": \"1980-04-02\",\n",
      "        \"medical_record_number\": \"MRN123464\",\n",
      "        \"symptoms\": \"Dizziness, fainting\",\n",
      "        \"doctor_type_requested\": \"Cardiologist\"\n",
      "    },\n",
      "    {\n",
      "        \"patient_name\": \"Patricia Hernandez\",\n",
      "        \"date_of_birth\": \"1983-08-30\",\n",
      "        \"medical_record_number\": \"MRN123465\",\n",
      "        \"symptoms\": \"Back pain\",\n",
      "        \"doctor_type_requested\": \"Orthopedic\"\n",
      "    },\n",
      "    {\n",
      "        \"patient_name\": \"Robert Lee\",\n",
      "        \"date_of_birth\": \"1970-02-14\",\n",
      "        \"medical_record_number\": \"MRN123466\",\n",
      "        \"symptoms\": \"Nausea, vomiting\",\n",
      "        \"doctor_type_requested\": \"Gastroenterologist\"\n",
      "    },\n",
      "    {\n",
      "        \"patient_name\": \"Linda Walker\",\n",
      "        \"date_of_birth\": \"1991-10-10\",\n",
      "        \"medical_record_number\": \"MRN123467\",\n",
      "        \"symptoms\": \"Anxiety, insomnia\",\n",
      "        \"doctor_type_requested\": \"Psychiatrist\"\n",
      "    },\n",
      "    {\n",
      "        \"patient_name\": \"Charles Hall\",\n",
      "        \"date_of_birth\": \"1986-12-01\",\n",
      "        \"medical_record_number\": \"MRN123468\",\n",
      "        \"symptoms\": \"Vision changes\",\n",
      "        \"doctor_type_requested\": \"Ophthalmologist\"\n",
      "    },\n",
      "    {\n",
      "        \"patient_name\": \"Susan Allen\",\n",
      "        \"date_of_birth\": \"1979-07-27\",\n",
      "        \"medical_record_number\": \"MRN123469\",\n",
      "        \"symptoms\": \"Hearing loss\",\n",
      "        \"doctor_type_requested\": \"Audiologist\"\n",
      "    },\n",
      "    {\n",
      "        \"patient_name\": \"Joseph Young\",\n",
      "        \"date_of_birth\": \"1994-03-03\",\n",
      "        \"medical_record_number\": \"MRN123470\",\n",
      "        \"symptoms\": \"Throat pain\",\n",
      "        \"doctor_type_requested\": \"ENT Specialist\"\n",
      "    },\n",
      "    {\n",
      "        \"patient_name\": \"Karen King\",\n",
      "        \"date_of_birth\": \"1987-05-20\",\n",
      "        \"medical_record_number\": \"MRN123471\",\n",
      "        \"symptoms\": \"Mood swings\",\n",
      "        \"doctor_type_requested\": \"Psychiatrist\"\n",
      "    },\n",
      "    {\n",
      "        \"patient_name\": \"Thomas Wright\",\n",
      "        \"date_of_birth\": \"1981-08-12\",\n",
      "        \"medical_record_number\": \"MRN123472\",\n",
      "        \"symptoms\": \"High blood pressure\",\n",
      "        \"doctor_type_requested\": \"Cardiologist\"\n",
      "    },\n",
      "    {\n",
      "        \"patient_name\": \"Nancy Scott\",\n",
      "        \"date_of_birth\": \"1993-04-28\",\n",
      "        \"medical_record_number\": \"MRN123473\",\n",
      "        \"symptoms\": \"Allergic reaction\",\n",
      "        \"doctor_type_requested\": \"Allergist\"\n",
      "    },\n",
      "    {\n",
      "        \"patient_name\": \"Daniel Green\",\n",
      "        \"date_of_birth\": \"1984-11-21\",\n",
      "        \"medical_record_number\": \"MRN123474\",\n",
      "        \"symptoms\": \"Fatigue, headaches\",\n",
      "        \"doctor_type_requested\": \"Neurologist\"\n",
      "    },\n",
      "    {\n",
      "        \"patient_name\": \"Barbara Adams\",\n",
      "        \"date_of_birth\": \"1976-09-09\",\n",
      "        \"medical_record_number\": \"MRN123475\",\n",
      "        \"symptoms\": \"Chest tightness\",\n",
      "        \"doctor_type_requested\": \"Cardiologist\"\n",
      "    },\n",
      "    {\n",
      "        \"patient_name\": \"Matthew Nelson\",\n",
      "        \"date_of_birth\": \"1990-06-07\",\n",
      "        \"medical_record_number\": \"MRN123476\",\n",
      "        \"symptoms\": \"Joint stiffness\",\n",
      "        \"doctor_type_requested\": \"Rheumatologist\"\n",
      "    },\n",
      "    {\n",
      "        \"patient_name\": \"Jessica Carter\",\n",
      "        \"date_of_birth\": \"1989-02-18\",\n",
      "        \"medical_record_number\": \"MRN123477\",\n",
      "        \"symptoms\": \"Persistent cough\",\n",
      "        \"doctor_type_requested\": \"Pulmonologist\"\n",
      "    },\n",
      "    {\n",
      "        \"patient_name\": \"Brian Mitchell\",\n",
      "        \"date_of_birth\": \"1980-01-30\",\n",
      "        \"medical_record_number\": \"MRN123478\",\n",
      "        \"symptoms\": \"Severe abdominal pain\",\n",
      "        \"doctor_type_requested\": \"Gastroenterologist\"\n",
      "    },\n",
      "    {\n",
      "        \"patient_name\": \"Angela Perez\",\n",
      "        \"date_of_birth\": \"1995-10-05\",\n",
      "        \"medical_record_number\": \"MRN123479\",\n",
      "        \"symptoms\": \"Skin lesions\",\n",
      "        \"doctor_type_requested\": \"Dermatologist\"\n",
      "    },\n",
      "    {\n",
      "        \"patient_name\": \"Kevin Roberts\",\n",
      "        \"date_of_birth\": \"1974-12-12\",\n",
      "        \"medical_record_number\": \"MRN123480\",\n",
      "        \"symptoms\": \"Frequent headaches\",\n",
      "        \"doctor_type_requested\": \"Neurologist\"\n",
      "    },\n",
      "    {\n",
      "        \"patient_name\": \"Megan Turner\",\n",
      "        \"date_of_birth\": \"1988-03-15\",\n",
      "        \"medical_record_number\": \"MRN123481\",\n",
      "        \"symptoms\": \"Weight gain, fatigue\",\n",
      "        \"doctor_type_requested\": \"Endocrinologist\"\n",
      "    },\n",
      "    {\n",
      "        \"patient_name\": \"Edward Phillips\",\n",
      "        \"date_of_birth\": \"1992-08-22\",\n",
      "        \"medical_record_number\": \"MRN123482\",\n",
      "        \"symptoms\": \"Numbness in limbs\",\n",
      "        \"doctor_type_requested\": \"Neurologist\"\n",
      "    },\n",
      "    {\n",
      "        \"patient_name\": \"Ashley Campbell\",\n",
      "        \"date_of_birth\": \"1981-04-06\",\n",
      "        \"medical_record_number\": \"MRN123483\",\n",
      "        \"symptoms\": \"Severe fatigue\",\n",
      "        \"doctor_type_requested\": \"Endocrinologist\"\n",
      "    },\n",
      "    {\n",
      "        \"patient_name\": \"Christopher Parker\",\n",
      "        \"date_of_birth\": \"1979-09-29\",\n",
      "        \"medical_record_number\": \"MRN123484\",\n",
      "        \"symptoms\": \"Chest pain, sweating\",\n",
      "        \"doctor_type_requested\": \"Cardiologist\"\n",
      "    },\n",
      "    {\n",
      "        \"patient_name\": \"Michelle Evans\",\n",
      "        \"date_of_birth\": \"1993-01-11\",\n",
      "        \"medical_record_number\": \"MRN123485\",\n",
      "        \"symptoms\": \"Severe anxiety\",\n",
      "        \"doctor_type_requested\": \"Psychiatrist\"\n",
      "    },\n",
      "    {\n",
      "        \"patient_name\": \"Joshua Edwards\",\n",
      "        \"date_of_birth\": \"1986-07-14\",\n",
      "        \"medical_record_number\": \"MRN123486\",\n",
      "        \"symptoms\": \"Difficulty breathing\",\n",
      "        \"doctor_type_requested\": \"Pulmonologist\"\n",
      "    },\n",
      "    {\n",
      "        \"patient_name\": \"Samantha Collins\",\n",
      "        \"date_of_birth\": \"1991-11-18\",\n",
      "        \"medical_record_number\": \"MRN123487\",\n",
      "        \"symptoms\": \"Nausea, dizziness\",\n",
      "        \"doctor_type_requested\": \"Gastroenterologist\"\n",
      "    },\n",
      "    {\n",
      "        \"patient_name\": \"Ryan Stewart\",\n",
      "        \"date_of_birth\": \"1984-05-27\",\n",
      "        \"medical_record_number\": \"MRN123488\",\n",
      "        \"symptoms\": \"Joint pain\",\n",
      "        \"doctor_type_requested\": \"Rheumatologist\"\n",
      "    },\n",
      "    {\n",
      "        \"patient_name\": \"Laura Sanchez\",\n",
      "        \"date_of_birth\": \"1990-10-30\",\n",
      "        \"medical_record_number\": \"MRN123489\",\n",
      "        \"symptoms\": \"Skin irritation\",\n",
      "        \"doctor_type_requested\": \"Dermatologist\"\n",
      "    },\n",
      "    {\n",
      "        \"patient_name\": \"Nicholas Morris\",\n",
      "        \"date_of_birth\": \"1977-02-20\",\n",
      "        \"medical_record_number\": \"MRN123490\",\n",
      "        \"symptoms\": \"Severe headaches\",\n",
      "        \"doctor_type_requested\": \"Neurologist\"\n",
      "    }\n",
      "]\n"
     ]
    }
   ],
   "source": [
    "print(response_patient)"
   ]
  },
  {
   "cell_type": "code",
   "execution_count": 13,
   "id": "d64cf284",
   "metadata": {},
   "outputs": [],
   "source": [
    "patient_data = response_patient"
   ]
  },
  {
   "cell_type": "markdown",
   "id": "38cc437a",
   "metadata": {},
   "source": [
    "### Save Doctor and Patient Data as JSON"
   ]
  },
  {
   "cell_type": "code",
   "execution_count": 14,
   "id": "72e5b29d",
   "metadata": {},
   "outputs": [],
   "source": [
    "import json"
   ]
  },
  {
   "cell_type": "code",
   "execution_count": 15,
   "id": "ff36844d",
   "metadata": {},
   "outputs": [],
   "source": [
    "with open('patient_data.json', 'w', encoding='utf-8') as f:\n",
    "    json.dump(patient_data, f, ensure_ascii=False, indent=4)"
   ]
  },
  {
   "cell_type": "code",
   "execution_count": 22,
   "id": "1a7fef39",
   "metadata": {},
   "outputs": [],
   "source": [
    "with open('doctor_data.json', 'w', encoding='utf-8') as f:\n",
    "    json.dump(doctor_data, f, ensure_ascii=False, indent=4)"
   ]
  },
  {
   "cell_type": "code",
   "execution_count": null,
   "id": "076ef183",
   "metadata": {},
   "outputs": [],
   "source": []
  }
 ],
 "metadata": {
  "kernelspec": {
   "display_name": "Python 3 (ipykernel)",
   "language": "python",
   "name": "python3"
  },
  "language_info": {
   "codemirror_mode": {
    "name": "ipython",
    "version": 3
   },
   "file_extension": ".py",
   "mimetype": "text/x-python",
   "name": "python",
   "nbconvert_exporter": "python",
   "pygments_lexer": "ipython3",
   "version": "3.9.12"
  }
 },
 "nbformat": 4,
 "nbformat_minor": 5
}
